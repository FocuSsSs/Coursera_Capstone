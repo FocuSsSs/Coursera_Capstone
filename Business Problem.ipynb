{
    "nbformat_minor": 1, 
    "cells": [
        {
            "source": "# The battle of Neghborhoods\n## The best location to open a restaurant in Madrid\n### Business Problem\n\nOne of our Italian clients wants to expand their business throughout Europe. <br/>The client has experience with restaurants in maritime cities.<br/> His first restaurant outside Italy is in Valencia, in the El Carme neighborhood. <br/>He wants to open his second restaurant in the capital of Spain, Madrid.\n\n<br/>The client has obtained very good results in Valencia and now wants to know<br/> how saturated is the Italian restaurant market in Madrid. <br/>He is looking for a neighborhood with characteristics very similar to those of El Carme.\n\n<br/>Madrid is the most populous city of Spain. The city has almost 3.3 million inhabitants<br/> and a metropolitan area population of approximately 6.5 million. <br/>It is the third-largest city in the European Union (EU), surpassed only by London and Berlin. <br/>The average of international tourists each month is more than 500.000.\n\n<br/>**Problem:<br/>\nWhich neighborhood in Madrid has similar characteristics as those of El Carme<br/> to eat well and with the possibility of doing good business?**\n", 
            "cell_type": "markdown", 
            "metadata": {
                "collapsed": true
            }
        }, 
        {
            "execution_count": null, 
            "cell_type": "code", 
            "metadata": {}, 
            "outputs": [], 
            "source": ""
        }
    ], 
    "metadata": {
        "kernelspec": {
            "display_name": "Python 3.6", 
            "name": "python3", 
            "language": "python"
        }, 
        "language_info": {
            "mimetype": "text/x-python", 
            "nbconvert_exporter": "python", 
            "version": "3.6.8", 
            "name": "python", 
            "file_extension": ".py", 
            "pygments_lexer": "ipython3", 
            "codemirror_mode": {
                "version": 3, 
                "name": "ipython"
            }
        }
    }, 
    "nbformat": 4
}