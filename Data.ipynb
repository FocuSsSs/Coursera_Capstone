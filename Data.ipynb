{
    "nbformat_minor": 1, 
    "cells": [
        {
            "source": "# The battle of Neghborhoods\n## The best location to open a restaurant in Madrid\n### Data \nThe data for this project will be taken from three different pages and we will use the Foursquare API that will provide us a list of venues with their specific location based on the coordinates Latitude and Longitude and a radius.\n* Madrid Neighborhood Names and geographic coordinates. It will be used to obtain the neighborhood location info.<br/>We will use the data available on this page: https://datos.madrid.es/\n\n\n* Valencia Neighborhood Names and geographic coordinates. It will be used to obtain the neighborhood location info.<br/>We will use the data available on this page: http://mapas.valencia.es/lanzadera/opendata/Barrios/SHAPE\n\n\n* Madrid Census data for population and income.<br/>We will use the data available on this page: http://www-2.munimadrid.es/CSE6/jsps/menuBancoDatos.jsp\n\n***\n\nAs mentioned before, we will use the Foursquare API. Foursquare is a database of more than 105 million places worldwide and an API that enables location data. The purpose of Foursquare is to help discover and share information about businesses and attractions like for example entertainment, drinking and dining venues. The API can be used to query their database in order to find information about location, tips, reviews, etc.\n\n***\n### Data collection\n\n1.1\tMadrid Neighborhood Names and geographic coordinates. \n<br/>We will use the public series of datasets provided by the Madrid government. \n<br/>The zip file from the following link: https://datos.madrid.es/egob/catalogo/200078-10-distritos-barrios.zip will be converted to a dataframe with geopandas python library.\n\n\n1.2\tValencia Neighborhood Names and geographic coordinates\n<br/>It will be used to obtain the neighborhood location info. \n<br/>We will use the data available on this page: http://mapas.valencia.es/lanzadera/opendata/Barrios/SHAPE\n\n1.3\tMadrid Census data\n<br/>The data is provided by the municipality data bank : http://www-2.munimadrid.es/CSE6/jsps/menuBancoDatos.jsp from where we will use the statistics of population and income.\n", 
            "cell_type": "markdown", 
            "metadata": {
                "collapsed": true
            }
        }, 
        {
            "execution_count": null, 
            "cell_type": "code", 
            "metadata": {}, 
            "outputs": [], 
            "source": ""
        }
    ], 
    "metadata": {
        "kernelspec": {
            "display_name": "Python 3.6", 
            "name": "python3", 
            "language": "python"
        }, 
        "language_info": {
            "mimetype": "text/x-python", 
            "nbconvert_exporter": "python", 
            "version": "3.6.8", 
            "name": "python", 
            "file_extension": ".py", 
            "pygments_lexer": "ipython3", 
            "codemirror_mode": {
                "version": 3, 
                "name": "ipython"
            }
        }
    }, 
    "nbformat": 4
}